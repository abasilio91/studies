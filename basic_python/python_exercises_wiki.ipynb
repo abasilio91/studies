{
  "nbformat": 4,
  "nbformat_minor": 0,
  "metadata": {
    "colab": {
      "provenance": [],
      "authorship_tag": "ABX9TyP+2De8nIPFX4iZcc1obZ6p",
      "include_colab_link": true
    },
    "kernelspec": {
      "name": "python3",
      "display_name": "Python 3"
    },
    "language_info": {
      "name": "python"
    }
  },
  "cells": [
    {
      "cell_type": "markdown",
      "metadata": {
        "id": "view-in-github",
        "colab_type": "text"
      },
      "source": [
        "<a href=\"https://colab.research.google.com/github/abasilio91/studies/blob/main/basic_python/python_exercises_wiki.ipynb\" target=\"_parent\"><img src=\"https://colab.research.google.com/assets/colab-badge.svg\" alt=\"Open In Colab\"/></a>"
      ]
    },
    {
      "cell_type": "markdown",
      "source": [
        "# Lista de Exercícios - Python\n",
        "\n",
        "Lista de introdução à linguagem python. A ideia é resolver estes exercícios usando apenas o conteúdo visto na aula 1 (18/09/23) do curso de Python do Coding Tank da Ada, que foram:\n",
        "\n",
        "* operações aritiméticas e lógicas\n",
        "* tipos de variáveis (int,float,boolean,string) e conversão de variáveis\n",
        "* format string e placeholders\n",
        "\n",
        "Evitar usar:\n",
        "\n",
        "* funções\n",
        "* bibliotecas externas\n",
        "\n",
        "Para ver a lista de exerícicios completa [clique aqui](https://wiki.python.org.br/ListaDeExercicios)."
      ],
      "metadata": {
        "id": "rGCX8MIMvN2c"
      }
    },
    {
      "cell_type": "markdown",
      "source": [
        "## Lista 1: Estrutura sequencial"
      ],
      "metadata": {
        "id": "zmW57SGYwJqE"
      }
    },
    {
      "cell_type": "markdown",
      "source": [
        "1. Faça um Programa que mostre a mensagem \"Alo mundo\" na tela."
      ],
      "metadata": {
        "id": "WivbB3Y-xPkh"
      }
    },
    {
      "cell_type": "code",
      "execution_count": 1,
      "metadata": {
        "colab": {
          "base_uri": "https://localhost:8080/"
        },
        "id": "i8Ym6bxZvMpR",
        "outputId": "4963d199-0647-42d9-844b-fb5f3d421ba2"
      },
      "outputs": [
        {
          "output_type": "stream",
          "name": "stdout",
          "text": [
            "Alô, Mundo!\n"
          ]
        }
      ],
      "source": [
        "print(f'Alô, Mundo!')"
      ]
    },
    {
      "cell_type": "markdown",
      "source": [
        "2. Faça um Programa que peça um número e então mostre a mensagem O número informado foi [número]."
      ],
      "metadata": {
        "id": "K_GHmwHqxY7Q"
      }
    },
    {
      "cell_type": "code",
      "source": [
        "num = input(\"Informe um número: \")\n",
        "print(f'O número informado foi {num}.')"
      ],
      "metadata": {
        "colab": {
          "base_uri": "https://localhost:8080/"
        },
        "id": "lMO5M4EFxVAP",
        "outputId": "697f9da8-bda0-4492-a79e-1cf560579773"
      },
      "execution_count": 2,
      "outputs": [
        {
          "output_type": "stream",
          "name": "stdout",
          "text": [
            "Informe um número: 45\n",
            "O número informado foi 45.\n"
          ]
        }
      ]
    },
    {
      "cell_type": "markdown",
      "source": [
        "3. Faça um Programa que peça dois números e imprima a soma"
      ],
      "metadata": {
        "id": "hXG-K9z7xkNj"
      }
    },
    {
      "cell_type": "code",
      "source": [
        "# Vou fazer os números sendo float para abranger qualquer número real.\n",
        "\n",
        "num1 = float(input(\"Informe o primeiro número: \"))\n",
        "num2 = float(input(\"Informe o segundo número: \"))\n",
        "Sum = num1+num2 # CUIDADO: \"sum\" é uma palavra reservada. Por isso, chamei de \"Sum\"\n",
        "print(f\"Soma: {Sum}\")"
      ],
      "metadata": {
        "colab": {
          "base_uri": "https://localhost:8080/"
        },
        "id": "BsHUR8iPxh68",
        "outputId": "0a707a0c-32a2-413e-a8f5-fbba71b3dfeb"
      },
      "execution_count": 3,
      "outputs": [
        {
          "output_type": "stream",
          "name": "stdout",
          "text": [
            "Informe o primeiro número: 459\n",
            "Informe o segundo número: 55.5\n",
            "Soma: 514.5\n"
          ]
        }
      ]
    },
    {
      "cell_type": "markdown",
      "source": [
        "4. Faça um Programa que peça as 4 notas bimestrais e mostre a média."
      ],
      "metadata": {
        "id": "erorL3lYx5tx"
      }
    },
    {
      "cell_type": "code",
      "source": [
        "\"\"\"\n",
        "Apesar de não ter sido um conteúdo visto específicamente em aula ainda, decidi\n",
        "usar listas neste exercício porque acho que fica mais limpo. No entanto, desse modo, não\n",
        "tem como garantir que serão digitadas 4 notas, podendo ser qualquer quantidade\n",
        "delas. Neste caso, seria melhor usar alguma etapa de validação, mas não fiz\n",
        "isso ainda pois envolveria o uso de loops ou tomadas de decisão, que ainda não\n",
        "foram estudados.\n",
        "\"\"\"\n",
        "\n",
        "grades = input(\"Digite as notas, separando-as as vírgulas: \")\n",
        "grades = grades.split(sep=\",\")\n",
        "grades = [float(x) for x in grades]\n",
        "mean = sum(grades)/len(grades)\n",
        "\n",
        "print(f\"Média do bimestre: {mean}\")"
      ],
      "metadata": {
        "colab": {
          "base_uri": "https://localhost:8080/"
        },
        "id": "k4mUr4K0xy8k",
        "outputId": "5fce0ee6-74da-488e-a59c-61cb72f5d1c4"
      },
      "execution_count": 9,
      "outputs": [
        {
          "output_type": "stream",
          "name": "stdout",
          "text": [
            "Digite as notas, separando-as as vírgulas: 7,8,5,9\n",
            "Média do bimestre: 7.25\n"
          ]
        }
      ]
    },
    {
      "cell_type": "markdown",
      "source": [
        "5. Faça um Programa que converta metros para centímetros."
      ],
      "metadata": {
        "id": "EHZShkBF3hus"
      }
    },
    {
      "cell_type": "code",
      "source": [
        "medida_m = float(input(\"Digite a medida, em m: \"))\n",
        "medida_cm = 100 * medida_m\n",
        "print(f\"A medida em cm é {medida_cm} cm\")"
      ],
      "metadata": {
        "colab": {
          "base_uri": "https://localhost:8080/"
        },
        "id": "HD7Qecwk3eV7",
        "outputId": "0c980ded-ee94-4403-903d-f10ec96206ba"
      },
      "execution_count": 13,
      "outputs": [
        {
          "output_type": "stream",
          "name": "stdout",
          "text": [
            "Digite a medida, em m: 45.86\n",
            "A medida em cm é 4586.0 cm\n"
          ]
        }
      ]
    },
    {
      "cell_type": "markdown",
      "source": [
        "6. Faça um Programa que peça o raio de um círculo, calcule e mostre sua área."
      ],
      "metadata": {
        "id": "h-j598Pu4989"
      }
    },
    {
      "cell_type": "code",
      "source": [
        "# Por restrições de conteúdo, vou usar o valor de pi = 3.14\n",
        "\n",
        "radius = float(input(\"Digite o valor do raio: \"))\n",
        "pi = 3.14\n",
        "area = pi*radius**2\n",
        "print(f\"A área deste círculo é {area} unidades².\")"
      ],
      "metadata": {
        "colab": {
          "base_uri": "https://localhost:8080/"
        },
        "id": "wwLsmEt148wV",
        "outputId": "17ef9940-2e8f-4971-9ded-c0dbefd6e5bf"
      },
      "execution_count": 14,
      "outputs": [
        {
          "output_type": "stream",
          "name": "stdout",
          "text": [
            "Digite o valor do raio: 5\n",
            "A área deste círculo é 78.5 unidades²\n"
          ]
        }
      ]
    },
    {
      "cell_type": "markdown",
      "source": [
        "7. Faça um Programa que calcule a área de um quadrado, em seguida mostre o dobro desta área para o usuário."
      ],
      "metadata": {
        "id": "IX1jK_6-5Zmt"
      }
    },
    {
      "cell_type": "code",
      "source": [
        "sq_length = float(input(\"Digite o lado do quadrado: \"))\n",
        "sq_area = sq_length**2\n",
        "double_sq = 2 * sq_area\n",
        "print(f\"O dobro da área desse quadrado é {double_sq} unidades².\")"
      ],
      "metadata": {
        "colab": {
          "base_uri": "https://localhost:8080/"
        },
        "id": "Xj8bxAKq4r36",
        "outputId": "6aae720e-e4cb-48d8-94e8-056ff57d225d"
      },
      "execution_count": 15,
      "outputs": [
        {
          "output_type": "stream",
          "name": "stdout",
          "text": [
            "Digite o lado do quadrado: 2\n",
            "O dobro da área desse quadrado é 8.0 unidades².\n"
          ]
        }
      ]
    },
    {
      "cell_type": "markdown",
      "source": [
        "8. Faça um Programa que pergunte quanto você ganha por hora e o número de horas trabalhadas no mês. Calcule e mostre o total do seu salário no referido mês."
      ],
      "metadata": {
        "id": "EEnKj1u65zFN"
      }
    },
    {
      "cell_type": "code",
      "source": [
        "hourly_rate = float(input(\"Digite o valor da sua hora de trabalho: \"))\n",
        "work_hours = float(input(\"Digite a quantidade de horas trabalhadas: \"))\n",
        "income = work_hours * hourly_rate\n",
        "\n",
        "print(f\"Seu salário no mês será de {income} reais.\")"
      ],
      "metadata": {
        "colab": {
          "base_uri": "https://localhost:8080/"
        },
        "id": "DC8U8bog5wxK",
        "outputId": "435e3cf2-15da-4c19-a6b6-c1a8250996f4"
      },
      "execution_count": 16,
      "outputs": [
        {
          "output_type": "stream",
          "name": "stdout",
          "text": [
            "Digite o valor da sua hora de trabalho: 25\n",
            "Digite a quantidade de horas trabalhadas: 200\n",
            "Seu salário no mês será de 5000.0 reais.\n"
          ]
        }
      ]
    },
    {
      "cell_type": "markdown",
      "source": [
        "9. Faça um Programa que peça a temperatura em graus Fahrenheit, transforme e mostre a temperatura em graus Celsius."
      ],
      "metadata": {
        "id": "gF1s3x7Z6W1w"
      }
    },
    {
      "cell_type": "code",
      "source": [
        "temperature_far = float(input(\"Digite a temperatura em ºF: \"))\n",
        "temperature_celsius = 5/9 * (temperature_far - 32)\n",
        "\n",
        "print(f\"Temperatura em ºC: {temperature_celsius}\")"
      ],
      "metadata": {
        "colab": {
          "base_uri": "https://localhost:8080/"
        },
        "id": "7rd3_pRL6Ou5",
        "outputId": "a11f662d-19b6-4f47-be65-e32553b37d8f"
      },
      "execution_count": 21,
      "outputs": [
        {
          "output_type": "stream",
          "name": "stdout",
          "text": [
            "Digite a temperatura em ºF: -40\n",
            "Temperatura em ºC: -40.0\n"
          ]
        }
      ]
    },
    {
      "cell_type": "markdown",
      "source": [
        "10. Faça um Programa que peça a temperatura em graus Celsius, transforme e mostre em graus Fahrenheit."
      ],
      "metadata": {
        "id": "fankTbR56-bi"
      }
    },
    {
      "cell_type": "code",
      "source": [
        "temperature_celsius = float(input(\"Digite a temperatura em ºC: \"))\n",
        "temperature_far = 9/5 * temperature_celsius + 32\n",
        "\n",
        "print(f\"Temperatura em ºF: {temperature_far}\")"
      ],
      "metadata": {
        "colab": {
          "base_uri": "https://localhost:8080/"
        },
        "id": "UsHv_dbM67VC",
        "outputId": "9aac60f4-29cf-421a-9595-2a42c95b6bd5"
      },
      "execution_count": 22,
      "outputs": [
        {
          "output_type": "stream",
          "name": "stdout",
          "text": [
            "Digite a temperatura em ºC: -40\n",
            "Temperatura em ºF: -40.0\n"
          ]
        }
      ]
    },
    {
      "cell_type": "markdown",
      "source": [
        "11. Faça um Programa que peça 2 números inteiros e um número real. Calcule e mostre:\n",
        "* a)  produto do dobro do primeiro com metade do segundo .\n",
        "* b) a soma do triplo do primeiro com o terceiro.\n",
        "* c) o terceiro elevado ao cubo."
      ],
      "metadata": {
        "id": "4bOCGtX77bBK"
      }
    },
    {
      "cell_type": "code",
      "source": [
        "\"\"\"\n",
        "Assim como no exercícios 4, o uso de listas neste exercício deixaria ele mais\n",
        "limpo. Porém, também seria necessário uma etapa de validação para identificar\n",
        "os números inteiros e o número real. Por isso, não usarei listas.\n",
        "\"\"\"\n",
        "\n",
        "int1 = int(input(\"Digite um número inteiro: \"))\n",
        "int2 = int(input(\"Digite outro número inteiro: \"))\n",
        "real1 = float(input(\"Digite um número real: \"))\n",
        "\n",
        "result1 = (2 * int1) * (int2/2)\n",
        "result2 = 3 * int1 + real1\n",
        "result3 = real1**3\n",
        "\n",
        "print(\"-----------------------------\")\n",
        "print(f\"Resultado letra a: {result1}\")\n",
        "print(\"-----------------------------\")\n",
        "print(f\"Resultado letra b: {result2}\")\n",
        "print(\"-----------------------------\")\n",
        "print(f\"Resultado letra c: {result3}\")"
      ],
      "metadata": {
        "colab": {
          "base_uri": "https://localhost:8080/"
        },
        "id": "8gXCln3T7LTh",
        "outputId": "7e7a103d-86b3-4501-b48d-5b03491939b2"
      },
      "execution_count": 24,
      "outputs": [
        {
          "output_type": "stream",
          "name": "stdout",
          "text": [
            "Digite um número inteiro: 8\n",
            "Digite outro número inteiro: 5\n",
            "Digite um número real: 7.49\n",
            "-----------------------------\n",
            "Resultado letra a: 40.0\n",
            "-----------------------------\n",
            "Resultado letra b: 31.490000000000002\n",
            "-----------------------------\n",
            "Resultado letra c: 420.18974900000006\n"
          ]
        }
      ]
    },
    {
      "cell_type": "markdown",
      "source": [
        "12. Tendo como dados de entrada a altura de uma pessoa, construa um algoritmo que calcule seu peso ideal, usando a seguinte fórmula: (72.7*altura) - 58"
      ],
      "metadata": {
        "id": "VloeDv5K-U-Z"
      }
    },
    {
      "cell_type": "code",
      "source": [
        "height = float(input(\"Digite sua altura, em metros: \"))\n",
        "ideal_weight = 72.7 * height - 58\n",
        "\n",
        "print(f\"Seu peso ideal é {ideal_weight} kg.\")"
      ],
      "metadata": {
        "colab": {
          "base_uri": "https://localhost:8080/"
        },
        "id": "REXDBRsY-JR5",
        "outputId": "a68f7609-c903-4537-9abc-5f4bdb8a67cb"
      },
      "execution_count": 25,
      "outputs": [
        {
          "output_type": "stream",
          "name": "stdout",
          "text": [
            "Digite sua altura, em metros: 1.77\n",
            "Seu peso ideal é 70.679 kg.\n"
          ]
        }
      ]
    },
    {
      "cell_type": "markdown",
      "source": [
        "13. Tendo como dado de entrada a altura (h) de uma pessoa, construa um algoritmo que calcule seu peso ideal, utilizando as seguintes fórmulas:\n",
        "\n",
        "* a) Para homens: (72.7*h) - 58\n",
        "* b) Para mulheres: (62.1*h) - 44.7"
      ],
      "metadata": {
        "id": "vWAv_oEL-0Hy"
      }
    },
    {
      "cell_type": "code",
      "source": [
        "\"\"\"\n",
        "Este exercício, necessariamente, faz uso de tomadas de decisão,\n",
        "então não tem como escapar do if. Já que é assim, vou usar funções\n",
        "e validações também xD\n",
        "\"\"\"\n",
        "\n",
        "def ideal_weight(gender:str, height:float):\n",
        "  \"\"\"\n",
        "  Calcula o peso ideal da pessoa em função da sua altura e gênero.\n",
        "\n",
        "  ENTRADAS:\n",
        "    gender(str): gênero da pessoa, entre masculino ou feminino.\n",
        "    height(float): altura da pessoa, em metros.\n",
        "  ---------------\n",
        "  SAIDAS:\n",
        "    ideal_weight: peso ideal da pessoa.\n",
        "  \"\"\"\n",
        "\n",
        "  if gender not in ('m','masculino','Masculino','f','feminino','Feminino'):\n",
        "    raise Exception(\"Por favor, selecione o gênero entre masculino(m) ou feminino(f).\")\n",
        "\n",
        "  if gender in ('m','masculino','Masculino'):\n",
        "    ideal_weight = 72.7*height - 58\n",
        "    return ideal_weight\n",
        "\n",
        "  ideal_weight = 62.1*height - 44.7\n",
        "  return ideal_weight\n",
        "\n",
        "pessoa = ideal_weight('m',1.77)\n",
        "print(f\"Seu peso ideal é {pessoa:.2f} kg.\")\n",
        "\n",
        "pessoa = ideal_weight('f',1.77)\n",
        "print(f\"Seu peso ideal é {pessoa:.2f} kg.\")\n",
        "\n",
        "pessoa = ideal_weight('homem',1.77)\n",
        "print(f\"Seu peso ideal é {pessoa:.2f} kg.\")"
      ],
      "metadata": {
        "colab": {
          "base_uri": "https://localhost:8080/",
          "height": 403
        },
        "id": "t1ERx-rS-vgo",
        "outputId": "683cd602-2d7f-4403-b84f-137e689d0535"
      },
      "execution_count": 33,
      "outputs": [
        {
          "output_type": "stream",
          "name": "stdout",
          "text": [
            "Seu peso ideal é 70.68 kg.\n",
            "Seu peso ideal é 65.22 kg.\n"
          ]
        },
        {
          "output_type": "error",
          "ename": "Exception",
          "evalue": "ignored",
          "traceback": [
            "\u001b[0;31m---------------------------------------------------------------------------\u001b[0m",
            "\u001b[0;31mException\u001b[0m                                 Traceback (most recent call last)",
            "\u001b[0;32m<ipython-input-33-e4d4a681def9>\u001b[0m in \u001b[0;36m<cell line: 24>\u001b[0;34m()\u001b[0m\n\u001b[1;32m     22\u001b[0m \u001b[0mprint\u001b[0m\u001b[0;34m(\u001b[0m\u001b[0;34mf\"Seu peso ideal é {pessoa:.2f} kg.\"\u001b[0m\u001b[0;34m)\u001b[0m\u001b[0;34m\u001b[0m\u001b[0;34m\u001b[0m\u001b[0m\n\u001b[1;32m     23\u001b[0m \u001b[0;34m\u001b[0m\u001b[0m\n\u001b[0;32m---> 24\u001b[0;31m \u001b[0mpessoa\u001b[0m \u001b[0;34m=\u001b[0m \u001b[0mideal_weight\u001b[0m\u001b[0;34m(\u001b[0m\u001b[0;34m'homem'\u001b[0m\u001b[0;34m,\u001b[0m\u001b[0;36m1.77\u001b[0m\u001b[0;34m)\u001b[0m\u001b[0;34m\u001b[0m\u001b[0;34m\u001b[0m\u001b[0m\n\u001b[0m\u001b[1;32m     25\u001b[0m \u001b[0mprint\u001b[0m\u001b[0;34m(\u001b[0m\u001b[0;34mf\"Seu peso ideal é {pessoa:.2f} kg.\"\u001b[0m\u001b[0;34m)\u001b[0m\u001b[0;34m\u001b[0m\u001b[0;34m\u001b[0m\u001b[0m\n",
            "\u001b[0;32m<ipython-input-33-e4d4a681def9>\u001b[0m in \u001b[0;36mideal_weight\u001b[0;34m(gender, height)\u001b[0m\n\u001b[1;32m      7\u001b[0m \u001b[0;32mdef\u001b[0m \u001b[0mideal_weight\u001b[0m\u001b[0;34m(\u001b[0m\u001b[0mgender\u001b[0m\u001b[0;34m:\u001b[0m\u001b[0mstr\u001b[0m\u001b[0;34m,\u001b[0m \u001b[0mheight\u001b[0m\u001b[0;34m:\u001b[0m\u001b[0mfloat\u001b[0m\u001b[0;34m)\u001b[0m\u001b[0;34m:\u001b[0m\u001b[0;34m\u001b[0m\u001b[0;34m\u001b[0m\u001b[0m\n\u001b[1;32m      8\u001b[0m   \u001b[0;32mif\u001b[0m \u001b[0mgender\u001b[0m \u001b[0;32mnot\u001b[0m \u001b[0;32min\u001b[0m \u001b[0;34m(\u001b[0m\u001b[0;34m'm'\u001b[0m\u001b[0;34m,\u001b[0m\u001b[0;34m'masculino'\u001b[0m\u001b[0;34m,\u001b[0m\u001b[0;34m'Masculino'\u001b[0m\u001b[0;34m,\u001b[0m\u001b[0;34m'f'\u001b[0m\u001b[0;34m,\u001b[0m\u001b[0;34m'feminino'\u001b[0m\u001b[0;34m,\u001b[0m\u001b[0;34m'Feminino'\u001b[0m\u001b[0;34m)\u001b[0m\u001b[0;34m:\u001b[0m\u001b[0;34m\u001b[0m\u001b[0;34m\u001b[0m\u001b[0m\n\u001b[0;32m----> 9\u001b[0;31m     \u001b[0;32mraise\u001b[0m \u001b[0mException\u001b[0m\u001b[0;34m(\u001b[0m\u001b[0;34m\"Por favor, selecione o gênero entre masculino(m) ou feminino (f).\"\u001b[0m\u001b[0;34m)\u001b[0m\u001b[0;34m\u001b[0m\u001b[0;34m\u001b[0m\u001b[0m\n\u001b[0m\u001b[1;32m     10\u001b[0m \u001b[0;34m\u001b[0m\u001b[0m\n\u001b[1;32m     11\u001b[0m   \u001b[0;32mif\u001b[0m \u001b[0mgender\u001b[0m \u001b[0;32min\u001b[0m \u001b[0;34m(\u001b[0m\u001b[0;34m'm'\u001b[0m\u001b[0;34m,\u001b[0m\u001b[0;34m'masculino'\u001b[0m\u001b[0;34m,\u001b[0m\u001b[0;34m'Masculino'\u001b[0m\u001b[0;34m)\u001b[0m\u001b[0;34m:\u001b[0m\u001b[0;34m\u001b[0m\u001b[0;34m\u001b[0m\u001b[0m\n",
            "\u001b[0;31mException\u001b[0m: Por favor, selecione o gênero entre masculino(m) ou feminino (f)."
          ]
        }
      ]
    },
    {
      "cell_type": "markdown",
      "source": [
        "14. João Papo-de-Pescador, homem de bem, comprou um microcomputador para controlar o rendimento diário de seu trabalho. Toda vez que ele traz um peso de peixes maior que o estabelecido pelo regulamento de pesca do estado de São Paulo (50 quilos) deve pagar uma multa de R$ 4,00 por quilo excedente. João precisa que você faça um programa que leia a variável peso (peso de peixes) e calcule o excesso. Gravar na variável excesso a quantidade de quilos além do limite e na variável multa o valor da multa que João deverá pagar. Imprima os dados do programa com as mensagens adequadas."
      ],
      "metadata": {
        "id": "U1dA9jqDBn-D"
      }
    },
    {
      "cell_type": "code",
      "source": [
        "\"\"\"\n",
        "Esse exercício também precisa de tomadas de decisão, então vamos fazer ele\n",
        "completinho também.\n",
        "\"\"\"\n",
        "\n",
        "def calculate_excess(fish_weight:float, threshold: float=50.0, fine_rate: float=4.0):\n",
        "  \"\"\"\n",
        "  Verifica se a quantidade de peixe pescada é maior que o limite municipal. Se\n",
        "  for, calcula também a multa a ser paga.\n",
        "\n",
        "  ENTRADAS:\n",
        "    fish_weight(float): Massa de peixe pescado, em quilos.\n",
        "    threshold(float): Limite superior de peixe pescado definido pelo município.\n",
        "                      Padrão = 50 kg.\n",
        "    fine_rate(float): Taxa, em reais, da multa a ser paga por excesso de massa.\n",
        "                      Padrão = R$ 4,00 / quilo.\n",
        "  ---------------\n",
        "  SAIDAS:\n",
        "    excess(float): Massa de peixe pescado, em quilos, que ultrapassou o limite.\n",
        "    fine(float): Valor total da multa, em reais.\n",
        "  \"\"\"\n",
        "\n",
        "  if fish_weight <= threshold:\n",
        "    excess = 0\n",
        "    fine = 0\n",
        "    return [excess, fine]\n",
        "\n",
        "  excess = fish_weight - threshold\n",
        "  fine = excess * fine_rate\n",
        "  return [excess, fine]\n",
        "\n",
        "excess, fine = calculate_excess(45)\n",
        "print(f\"Você pescou {excess:.2f} kg de peixe acima do limite.\")\n",
        "print(f\"Multa devida: R$ {fine:.2f}.\")\n",
        "\n",
        "excess, fine = calculate_excess(65)\n",
        "print(f\"Você pescou {excess:.2f} kg de peixe acima do limite.\")\n",
        "print(f\"Multa devida: R$ {fine:.2f}.\")"
      ],
      "metadata": {
        "colab": {
          "base_uri": "https://localhost:8080/"
        },
        "id": "nN0_d_F1AoGA",
        "outputId": "37cdd822-e954-488f-e744-99698a18d141"
      },
      "execution_count": 35,
      "outputs": [
        {
          "output_type": "stream",
          "name": "stdout",
          "text": [
            "Você pescou 0.00 kg de peixe acima do limite.\n",
            "Multa devida: R$ 0.00.\n",
            "Você pescou 15.00 kg de peixe acima do limite.\n",
            "Multa devida: R$ 60.00.\n"
          ]
        }
      ]
    },
    {
      "cell_type": "markdown",
      "source": [
        "15. Faça um Programa que pergunte quanto você ganha por hora e o número de horas trabalhadas no mês. Calcule e mostre o total do seu salário no referido mês, sabendo-se que são descontados 11% para o Imposto de Renda, 8% para o INSS e 5% para o sindicato, faça um programa que nos dê:\n",
        "* a) salário bruto.\n",
        "* b) quanto pagou ao INSS.\n",
        "* c) quanto pagou ao sindicato.\n",
        "* d) o salário líquido.\n",
        "* e) calcule os descontos e o salário líquido, conforme a tabela abaixo:\n",
        "  * Salário Bruto\n",
        "  * IR (11\\%) : R\\$\n",
        "  * INSS (8\\%) : R\\$\n",
        "  * Sindicato ( 5\\%) : R\\$\n",
        "  * Salário Liquido : R\\$\n",
        "\n",
        "Obs.: Salário Bruto - Descontos = Salário Líquido."
      ],
      "metadata": {
        "id": "FPUU8iXmExd5"
      }
    },
    {
      "cell_type": "code",
      "source": [
        "\"\"\"\n",
        "Não sei porque, mas acho que a solução desse exercício faz mais sentido\n",
        "usando classes.\n",
        "\"\"\"\n",
        "\n",
        "class IncomeCheck():\n",
        "  def __init__(self,\n",
        "               hourly_rate:float,\n",
        "               work_hours:float,\n",
        "               ir_taxes: float=0.11,\n",
        "               inss_taxes: float=0.08,\n",
        "               union_taxes: float=0.05):\n",
        "    self.hourly_rate = hourly_rate\n",
        "    self.work_hours = work_hours\n",
        "    self._ir_taxes = ir_taxes\n",
        "    self._inss_taxes = inss_taxes\n",
        "    self._union_taxes = union_taxes\n",
        "    self.raw_salary = self.raw_salary()\n",
        "    self.ir_discount = self.ir_discount()\n",
        "    self.inss_discount = self.inss_discount()\n",
        "    self.union_discount = self.union_discount()\n",
        "    self.liquid_salary = self.liquid_salary()\n",
        "\n",
        "  def raw_salary(self):\n",
        "    return self.hourly_rate * self.work_hours\n",
        "\n",
        "  def ir_discount(self):\n",
        "    return self.raw_salary * self._ir_taxes\n",
        "\n",
        "  def inss_discount(self):\n",
        "    return self.raw_salary * self._inss_taxes\n",
        "\n",
        "  def union_discount(self):\n",
        "    return self.raw_salary * self._union_taxes\n",
        "\n",
        "  def liquid_salary(self):\n",
        "    discounts = [\n",
        "        self.ir_discount,\n",
        "        self.inss_discount,\n",
        "        self.union_discount\n",
        "        ]\n",
        "    self.total_discount = sum(discounts)\n",
        "\n",
        "    return self.raw_salary - self.total_discount\n",
        "\n",
        "  def summary(self):\n",
        "    print(f\"\"\"\n",
        "    Olerite salarial:\\n\n",
        "    Salário bruto: R$ {self.raw_salary:.2f}\n",
        "    Discontos:\n",
        "        Imposto de Renda: R$ {self.ir_discount:.2f}\n",
        "                    INSS: R$ {self.inss_discount:.2f}\n",
        "               Sindicato: R$ {self.union_discount:.2f}\n",
        "    -------------------------------\n",
        "    Salário líquido: R$ {self.liquid_salary:.2f}\n",
        "    \"\"\")\n",
        "\n",
        "pessoa = IncomeCheck(hourly_rate=25, work_hours=200)\n",
        "pessoa.summary()"
      ],
      "metadata": {
        "colab": {
          "base_uri": "https://localhost:8080/"
        },
        "id": "Dbf2CLZWEgRI",
        "outputId": "9c471ebb-2edf-46af-ea81-fa8477cd0c23"
      },
      "execution_count": 53,
      "outputs": [
        {
          "output_type": "stream",
          "name": "stdout",
          "text": [
            "\n",
            "    Olerite salarial:\n",
            "\n",
            "    Salário bruto: R$ 5000.00\n",
            "    Discontos:\n",
            "        Imposto de Renda: R$ 550.00\n",
            "                    INSS: R$ 400.00\n",
            "               Sindicato: R$ 250.00\n",
            "    -------------------------------\n",
            "    Salário líquido: R$ 3800.00\n",
            "    \n"
          ]
        }
      ]
    },
    {
      "cell_type": "markdown",
      "source": [
        "16. Faça um programa para uma loja de tintas. O programa deverá pedir o tamanho em metros quadrados da área a ser pintada. Considere que a cobertura da tinta é de 1 litro para cada 3 metros quadrados e que a tinta é vendida em latas de 18 litros, que custam R\\$ 80,00. Informe ao usuário a quantidades de latas de tinta a serem compradas e o preço total."
      ],
      "metadata": {
        "id": "H7AqdapOTNOz"
      }
    },
    {
      "cell_type": "code",
      "source": [
        "\"\"\"\n",
        "Como é um exercício mais simples novamente, vou voltar às seguir as restrições originais\n",
        "\"\"\"\n",
        "\n",
        "area = float(input(\"Digite a area total, em m², que deve ser pintada: \"))\n",
        "volume_paint = area / 3\n",
        "number_paint_can = volume_paint // 18 + 1\n",
        "price_cans = 80\n",
        "number_cans = price_cans * number_paint_can\n",
        "\n",
        "print(f\"\"\"\n",
        "Para esta área você irá utilizar {volume_paint:.1f} litros de tinta.\n",
        "Será necessário comprar {number_paint_can} latas de tinta.\n",
        "O valor total será de R$ {number_cans:.2f}.\n",
        "\"\"\")"
      ],
      "metadata": {
        "colab": {
          "base_uri": "https://localhost:8080/"
        },
        "id": "UDv0pPc2RpQe",
        "outputId": "34dc8785-aaf1-4e5e-fb02-adf472093318"
      },
      "execution_count": 58,
      "outputs": [
        {
          "output_type": "stream",
          "name": "stdout",
          "text": [
            "Digite a area total, em m², que deve ser pintada: 59\n",
            "\n",
            "Para esta área você irá utilizar 19.7 litros de tinta.\n",
            "Será necessário comprar 2.0 latas de tinta.\n",
            "O valor total será de R$ 160.00.\n",
            "\n"
          ]
        }
      ]
    },
    {
      "cell_type": "markdown",
      "source": [
        "17. Faça um Programa para uma loja de tintas. O programa deverá pedir o tamanho em metros quadrados da área a ser pintada. Considere que a cobertura da tinta é de 1 litro para cada 6 metros quadrados e que a tinta é vendida em latas de 18 litros, que custam R\\$ 80,00 ou em galões de 3,6 litros, que custam R\\$ 25,00.\n",
        "Informe ao usuário as quantidades de tinta a serem compradas e os respectivos preços em 3 situações:\n",
        "\n",
        "* a) comprar apenas latas de 18 litros;\n",
        "* b) comprar apenas galões de 3,6 litros;\n",
        "* c) misturar latas e galões, de forma que o desperdício de tinta seja menor.\n",
        "\n",
        "Acrescente 10% de folga e sempre arredonde os valores para cima, isto é, considere latas cheias"
      ],
      "metadata": {
        "id": "0uEIFK-DU4ro"
      }
    },
    {
      "cell_type": "code",
      "source": [
        "\"\"\"\n",
        "De novo, na minha cabeça faz mais sentido usar classes\n",
        "\"\"\"\n",
        "\n",
        "class PaintOptimizer():\n",
        "  def __init__(self,\n",
        "               area: float,\n",
        "               paint_ratio: float=6.0,\n",
        "               can_price: float=80.00,\n",
        "               can_volume: float=18.0,\n",
        "               gallon_price: float=25.00,\n",
        "               gallon_volume: float=3.6,\n",
        "               relaxation: float=10):\n",
        "    self.area = area\n",
        "    self.paint_ratio = paint_ratio\n",
        "    self.can_price = can_price\n",
        "    self.can_volume = can_volume\n",
        "    self.gallon_price = gallon_price\n",
        "    self.gallon_volume = gallon_volume\n",
        "    self.relaxation = relaxation\n",
        "    self.paint_volume = self.paint_volume()\n",
        "    self.max_number_cans = self.max_number_cans()\n",
        "    self.total_price_cans = self.total_price_cans()\n",
        "    self.total_volume_cans = self.total_volume_cans()\n",
        "    self.max_number_gallons = self.max_number_gallons()\n",
        "    self.total_price_gallons = self.total_price_gallons()\n",
        "    self.total_volume_gallons = self.total_volume_gallons()\n",
        "    self.optimum_can_gallon()\n",
        "\n",
        "  def paint_volume(self):\n",
        "    return (1 + self.relaxation/100) * (self.area / self.paint_ratio)\n",
        "\n",
        "  def max_number_cans(self):\n",
        "    return self.paint_volume // self.can_volume + 1\n",
        "\n",
        "  def total_price_cans(self):\n",
        "    return self.max_number_cans * self.can_price\n",
        "\n",
        "  def total_volume_cans(self):\n",
        "    return self.max_number_cans * self.can_volume\n",
        "\n",
        "  def max_number_gallons(self):\n",
        "    return self.paint_volume // self.gallon_volume + 1\n",
        "\n",
        "  def total_price_gallons(self):\n",
        "    return self.max_number_gallons * self.gallon_price\n",
        "\n",
        "  def total_volume_gallons(self):\n",
        "    return self.max_number_gallons * self.gallon_volume\n",
        "\n",
        "  def optimum_can_gallon(self):\n",
        "    self.opt_number_cans = self.paint_volume // self.can_volume\n",
        "    self.opt_volume_cans = self.opt_number_cans * self.can_volume\n",
        "    self.opt_price_cans = self.opt_number_cans * self.can_price\n",
        "\n",
        "    volume_left = self.paint_volume - self.opt_volume_cans\n",
        "    self.opt_number_gallons = volume_left // self.gallon_volume + 1\n",
        "    self.opt_volume_gallons = self.opt_number_gallons * self.gallon_volume\n",
        "    self.opt_price_gallons = self.opt_number_gallons * self.gallon_price\n",
        "\n",
        "    self.total_price = self.opt_price_cans + self.opt_price_gallons\n",
        "    self.opt_volume = self.opt_volume_cans + self.opt_volume_gallons\n",
        "\n",
        "  def summary(self):\n",
        "    print(\n",
        "        f\"\"\"\n",
        "        Orçamento:\n",
        "        Volume total de tinta: {self.paint_volume:.2f} litros.\n",
        "        Porcentagem de folga: {self.relaxation}%\n",
        "\n",
        "        Opção a) Comprando apenas latas de tinta\n",
        "               Total de latas: {self.max_number_cans} latas.\n",
        "        Volume total de tinta: {self.total_volume_cans:.2f} litros.\n",
        "                  Preço total: R$ {self.total_price_cans:.2f}\n",
        "\n",
        "        ---------------\n",
        "        Opção b) Comprando apenas galões de tinta\n",
        "               Total de galões: {self.max_number_gallons} latas.\n",
        "        Volume total de galões: {self.total_volume_gallons:.2f} litros.\n",
        "                   Preço total: R$ {self.total_price_gallons:.2f}\n",
        "\n",
        "        ---------------\n",
        "        Opção c) Combinando latas e galões\n",
        "               Total de latas: {self.opt_number_cans} latas.\n",
        "        Volume total de tinta: {self.opt_volume_cans:.2f} litros.\n",
        "                  Preço latas: R$ {self.opt_price_cans:.2f}\n",
        "\n",
        "               Total de galões: {self.opt_number_gallons} latas.\n",
        "        Volume total de galões: {self.opt_volume_gallons:.2f} litros.\n",
        "                  Preço galões: R$ {self.opt_price_gallons:.2f}\n",
        "\n",
        "         Volume total comprado: {self.opt_volume:.2f} litros\n",
        "                   Preço final: R$ {self.total_price:.2f}\n",
        "        \"\"\"\n",
        "    )\n",
        "\n",
        "loja = PaintOptimizer(158)\n",
        "loja.summary()"
      ],
      "metadata": {
        "colab": {
          "base_uri": "https://localhost:8080/"
        },
        "id": "kFFlXRRNUpG8",
        "outputId": "033c85a9-1a26-4bb4-f322-818f13606ef8"
      },
      "execution_count": 66,
      "outputs": [
        {
          "output_type": "stream",
          "name": "stdout",
          "text": [
            "\n",
            "        Orçamento:\n",
            "        Volume total de tinta: 28.97 litros.\n",
            "        Porcentagem de folga: 10%\n",
            "\n",
            "        Opção a) Comprando apenas latas de tinta\n",
            "               Total de latas: 2.0 latas.\n",
            "        Volume total de tinta: 36.00 litros.\n",
            "                  Preço total: R$ 160.00\n",
            "        \n",
            "        ---------------\n",
            "        Opção b) Comprando apenas galões de tinta\n",
            "               Total de galões: 9.0 latas.\n",
            "        Volume total de galões: 32.40 litros.\n",
            "                   Preço total: R$ 225.00\n",
            "\n",
            "        ---------------\n",
            "        Opção c) Combinando latas e galões\n",
            "               Total de latas: 1.0 latas.\n",
            "        Volume total de tinta: 18.00 litros.\n",
            "                  Preço latas: R$ 80.00\n",
            "\n",
            "               Total de galões: 4.0 latas.\n",
            "        Volume total de galões: 14.40 litros.\n",
            "                  Preço galões: R$ 100.00\n",
            "        \n",
            "         Volume total comprado: 32.40 litros\n",
            "                   Preço final: R$ 180.00\n",
            "        \n"
          ]
        }
      ]
    },
    {
      "cell_type": "markdown",
      "source": [
        "18. Faça um programa que peça o tamanho de um arquivo para download (em MB) e a velocidade de um link de Internet (em Mbps), calcule e informe o tempo aproximado de download do arquivo usando este link (em minutos)."
      ],
      "metadata": {
        "id": "Oo8atZQoc7R0"
      }
    },
    {
      "cell_type": "code",
      "source": [
        "file_size = float(input(\"Digite o tamanho do arquivo, em mb: \"))\n",
        "connection_speed = int(input(\"Digite a velocidade de conexão, em mbps: \"))\n",
        "\n",
        "estimate_time_of_download = (file_size / connection_speed) / 60\n",
        "\n",
        "print(f\"O tempo estimado de conclusão é {estimate_time_of_download:.2f} minutos\")"
      ],
      "metadata": {
        "colab": {
          "base_uri": "https://localhost:8080/"
        },
        "id": "b4KgdoXEcM-C",
        "outputId": "05ef1432-3076-4503-de94-64e6aa8b2619"
      },
      "execution_count": 70,
      "outputs": [
        {
          "output_type": "stream",
          "name": "stdout",
          "text": [
            "Digite o tamanho do arquivo, em mb: 15000\n",
            "Digite a velocidade de conexão, em mbps: 300\n",
            "O tempo estimado de conclusão é 0.83 minutos\n"
          ]
        }
      ]
    }
  ]
}